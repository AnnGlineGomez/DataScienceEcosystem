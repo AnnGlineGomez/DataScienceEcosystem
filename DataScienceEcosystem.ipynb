{
  "metadata": {
    "language_info": {
      "codemirror_mode": {
        "name": "python",
        "version": 3
      },
      "file_extension": ".py",
      "mimetype": "text/x-python",
      "name": "python",
      "nbconvert_exporter": "python",
      "pygments_lexer": "ipython3",
      "version": "3.8"
    },
    "kernelspec": {
      "name": "python",
      "display_name": "Python (Pyodide)",
      "language": "python"
    }
  },
  "nbformat_minor": 4,
  "nbformat": 4,
  "cells": [
    {
      "cell_type": "markdown",
      "source": "# Data Science Tools and Ecosystem",
      "metadata": {}
    },
    {
      "cell_type": "markdown",
      "source": "This notebook provides a summary of the tools ecosystem related to data science.",
      "metadata": {}
    },
    {
      "cell_type": "markdown",
      "source": "**Objectives:**\n- List of popular languages for Data Science\n- Commonly used libraries by Data Scientists\n- Development environment open-source tools used in data science\n- Arthemetic expression example in Python\n",
      "metadata": {}
    },
    {
      "cell_type": "markdown",
      "source": "Data Scientists commonly use several popular languages, such as:\n1. Python\n2. R\n3. Julia\n4. SQL\n5. Java",
      "metadata": {}
    },
    {
      "cell_type": "markdown",
      "source": "Data Scientists often rely on a variety of commonly used libraries, such as:\n1. NumPy\n2. Pandas\n3. Matplotlib\n4. Scikit-learn\n5. Tensorflow",
      "metadata": {}
    },
    {
      "cell_type": "markdown",
      "source": "| Data Science Tools |\n|-------------------|\n| Jupyter Notebook  |\n| R Studio          |\n| Spyder            |\n",
      "metadata": {}
    },
    {
      "cell_type": "markdown",
      "source": "### Below are a few examples of evaluating arithmetic expression in Python ",
      "metadata": {}
    },
    {
      "cell_type": "code",
      "source": "#This is a simple arithemetic expression to multiply then add numbers\n(3*4)+5",
      "metadata": {
        "trusted": true
      },
      "execution_count": 1,
      "outputs": [
        {
          "execution_count": 1,
          "output_type": "execute_result",
          "data": {
            "text/plain": "17"
          },
          "metadata": {}
        }
      ]
    },
    {
      "cell_type": "code",
      "source": "# This will convert 200 minutes to hours by dividing by 60\nminutes = 200\nhours = minutes / 60\nprint(hours)\n",
      "metadata": {
        "trusted": true
      },
      "execution_count": 2,
      "outputs": [
        {
          "name": "stdout",
          "text": "3.3333333333333335\n",
          "output_type": "stream"
        }
      ]
    },
    {
      "cell_type": "markdown",
      "source": "## Author\nAnn Gline Gomez",
      "metadata": {}
    },
    {
      "cell_type": "code",
      "source": "",
      "metadata": {},
      "execution_count": null,
      "outputs": []
    }
  ]
}